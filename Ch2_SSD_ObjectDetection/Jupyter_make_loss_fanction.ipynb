{
 "cells": [
  {
   "cell_type": "code",
   "execution_count": 1,
   "metadata": {},
   "outputs": [],
   "source": [
    "import torch"
   ]
  },
  {
   "cell_type": "code",
   "execution_count": 2,
   "metadata": {},
   "outputs": [
    {
     "name": "stdout",
     "output_type": "stream",
     "text": [
      "tensor([8.1000, 0.2000, 3.4000, 2.2000, 5.5000])\n"
     ]
    }
   ],
   "source": [
    "x = torch.Tensor([8.1, 0.2, 3.4, 2.2, 5.5])\n",
    "print(x)"
   ]
  },
  {
   "cell_type": "code",
   "execution_count": 4,
   "metadata": {},
   "outputs": [
    {
     "name": "stdout",
     "output_type": "stream",
     "text": [
      "tensor([0, 4, 2, 3, 1])\n"
     ]
    }
   ],
   "source": [
    "_, x_idx = x.sort(dim=-1, descending=True)\n",
    "print(x_idx)"
   ]
  },
  {
   "cell_type": "code",
   "execution_count": 5,
   "metadata": {},
   "outputs": [
    {
     "name": "stdout",
     "output_type": "stream",
     "text": [
      "tensor([0, 4, 2, 3, 1])\n"
     ]
    }
   ],
   "source": [
    "_, x_rank = x_idx.sort(dim=-1)\n",
    "print(x_rank)"
   ]
  },
  {
   "cell_type": "code",
   "execution_count": null,
   "metadata": {},
   "outputs": [],
   "source": [
    "# x_rankはxの値(損失)が降順ソートに基づいて上から何番目かを知らせる"
   ]
  },
  {
   "cell_type": "code",
   "execution_count": 76,
   "metadata": {},
   "outputs": [
    {
     "name": "stdout",
     "output_type": "stream",
     "text": [
      "tensor([[0.1000, 0.2000, 0.3000, 0.0000, 0.7000],\n",
      "        [0.4000, 0.0000, 0.2000, 0.6000, 0.1000]])\n"
     ]
    }
   ],
   "source": [
    "# GT-Box:2, Def-Box:3\n",
    "overlaps = torch.Tensor([[.1,.2,.3,.0,.7], [.4,.0,.2,.6,.1]])\n",
    "print(overlaps)"
   ]
  },
  {
   "cell_type": "code",
   "execution_count": 77,
   "metadata": {},
   "outputs": [
    {
     "name": "stdout",
     "output_type": "stream",
     "text": [
      "tensor([[0.7000],\n",
      "        [0.6000]])\n",
      "tensor([[4],\n",
      "        [3]])\n"
     ]
    }
   ],
   "source": [
    "best_dbox_overlap, best_dbox_idx = overlaps.max(dim=1, keepdim=True)\n",
    "print(best_dbox_overlap)\n",
    "print(best_dbox_idx)"
   ]
  },
  {
   "cell_type": "code",
   "execution_count": 78,
   "metadata": {},
   "outputs": [
    {
     "name": "stdout",
     "output_type": "stream",
     "text": [
      "tensor([[0.4000, 0.2000, 0.3000, 0.6000, 0.7000]])\n",
      "tensor([[1, 0, 0, 1, 0]])\n"
     ]
    }
   ],
   "source": [
    "best_gtbox_overlap, best_gtbox_idx = overlaps.max(dim=0, keepdim=True)\n",
    "print(best_gtbox_overlap)\n",
    "print(best_gtbox_idx)"
   ]
  },
  {
   "cell_type": "code",
   "execution_count": 79,
   "metadata": {},
   "outputs": [
    {
     "data": {
      "text/plain": [
       "tensor([1, 0, 0, 1, 0])"
      ]
     },
     "execution_count": 79,
     "metadata": {},
     "output_type": "execute_result"
    }
   ],
   "source": [
    "best_gtbox_idx.squeeze(0)"
   ]
  },
  {
   "cell_type": "code",
   "execution_count": 80,
   "metadata": {},
   "outputs": [
    {
     "data": {
      "text/plain": [
       "tensor([4, 3])"
      ]
     },
     "execution_count": 80,
     "metadata": {},
     "output_type": "execute_result"
    }
   ],
   "source": [
    "best_dbox_idx.squeeze(1)"
   ]
  },
  {
   "cell_type": "code",
   "execution_count": 81,
   "metadata": {},
   "outputs": [
    {
     "name": "stdout",
     "output_type": "stream",
     "text": [
      "tensor([[1, 0, 0, 1, 0]])\n",
      "tensor([[4],\n",
      "        [3]])\n"
     ]
    }
   ],
   "source": [
    "print(best_gtbox_idx)\n",
    "print(best_dbox_idx)"
   ]
  },
  {
   "cell_type": "code",
   "execution_count": 82,
   "metadata": {},
   "outputs": [
    {
     "name": "stdout",
     "output_type": "stream",
     "text": [
      "tensor([0.4000, 0.2000, 0.3000, 0.6000, 0.7000])\n",
      "tensor([4, 3])\n",
      "tensor([0.4000, 0.2000, 0.3000, 2.0000, 2.0000])\n"
     ]
    }
   ],
   "source": [
    "a = best_gtbox_overlap.squeeze(0)\n",
    "print(a)\n",
    "b = best_dbox_idx.squeeze(1)\n",
    "print(b)\n",
    "c = a.index_fill_(dim=0, index=b, value=2)\n",
    "print(c)"
   ]
  },
  {
   "cell_type": "code",
   "execution_count": 83,
   "metadata": {},
   "outputs": [
    {
     "name": "stdout",
     "output_type": "stream",
     "text": [
      "2\n",
      "tensor([1, 0, 0, 1, 0])\n",
      "tensor([1, 0, 0, 1, 0])\n"
     ]
    }
   ],
   "source": [
    "best_gtbox_overlap.squeeze_(0)\n",
    "best_dbox_idx.squeeze_(1)\n",
    "best_gtbox_overlap.index_fill_(dim=0, index=best_dbox_idx, value=2)\n",
    "print(best_dbox_idx.size(0))\n",
    "best_gtbox_idx.squeeze_(0)\n",
    "print(best_gtbox_idx)\n",
    "for j in range(best_dbox_idx.size(0)):\n",
    "    best_gtbox_idx[best_dbox_idx[j]] = j\n",
    "print(best_gtbox_idx)"
   ]
  },
  {
   "cell_type": "code",
   "execution_count": null,
   "metadata": {},
   "outputs": [],
   "source": []
  }
 ],
 "metadata": {
  "kernelspec": {
   "display_name": "Python 3.6.9 64-bit ('QtPy36': conda)",
   "language": "python",
   "name": "python36964bitqtpy36condac09d93b7e2bc4050ab06fc2ff7a46e56"
  },
  "language_info": {
   "codemirror_mode": {
    "name": "ipython",
    "version": 3
   },
   "file_extension": ".py",
   "mimetype": "text/x-python",
   "name": "python",
   "nbconvert_exporter": "python",
   "pygments_lexer": "ipython3",
   "version": "3.6.9"
  }
 },
 "nbformat": 4,
 "nbformat_minor": 2
}
