{
 "cells": [
  {
   "cell_type": "code",
   "execution_count": 1,
   "metadata": {},
   "outputs": [],
   "source": [
    "import os\n",
    "import urllib.request\n",
    "import urllib.parse"
   ]
  },
  {
   "cell_type": "markdown",
   "metadata": {},
   "source": [
    "### phpのAPI経由でxmlの文字列を取得"
   ]
  },
  {
   "cell_type": "markdown",
   "metadata": {},
   "source": [
    "今回は「郵便番号検索API」を使用させていただきました。有用なAPIを公開してくれている作者の方に感謝ですね。"
   ]
  },
  {
   "cell_type": "code",
   "execution_count": 4,
   "metadata": {},
   "outputs": [],
   "source": [
    "params = {\"zn\":1030000}\n",
    "\n",
    "p = urllib.parse.urlencode(params)\n",
    "url = 'http://zip.cgis.biz/xml/zip.php?' + p\n",
    "req = urllib.request.Request(url)\n",
    "\n",
    "with urllib.request.urlopen(req) as response:\n",
    "    xml_string = response.read()"
   ]
  },
  {
   "cell_type": "code",
   "execution_count": 5,
   "metadata": {},
   "outputs": [
    {
     "name": "stdout",
     "output_type": "stream",
     "text": [
      "b'<?xml version=\"1.0\" encoding=\"utf-8\" ?>\\n<ZIP_result>\\n<result name=\"ZipSearchXML\" />\\n<result version=\"1.01\" />\\n<result request_url=\"http%3A%2F%2Fzip.cgis.biz%2Fxml%2Fzip.php%3Fzn%3D1030000\" />\\n<result request_zip_num=\"1030000\" />\\n<result request_zip_version=\"none\" />\\n<result result_code=\"1\" />\\n<result result_zip_num=\"1030000\" />\\n<result result_zip_version=\"0\" />\\n<result result_values_count=\"1\" />\\n<ADDRESS_value>\\n<value state_kana=\"\\xe3\\x83\\x88\\xe3\\x82\\xa6\\xe3\\x82\\xad\\xe3\\x83\\xa7\\xe3\\x82\\xa6\\xe3\\x83\\x88\" />\\n<value city_kana=\"\\xe3\\x83\\x81\\xe3\\x83\\xa5\\xe3\\x82\\xa6\\xe3\\x82\\xaa\\xe3\\x82\\xa6\\xe3\\x82\\xaf\" />\\n<value address_kana=\"none\" />\\n<value company_kana=\"none\" />\\n<value state=\"\\xe6\\x9d\\xb1\\xe4\\xba\\xac\\xe9\\x83\\xbd\" />\\n<value city=\"\\xe4\\xb8\\xad\\xe5\\xa4\\xae\\xe5\\x8c\\xba\" />\\n<value address=\"none\" />\\n<value company=\"none\" />\\n</ADDRESS_value>\\n</ZIP_result>\\n'\n"
     ]
    }
   ],
   "source": [
    "print(xml_string)"
   ]
  },
  {
   "cell_type": "markdown",
   "metadata": {},
   "source": [
    "### 標準ライブラリのXML ElementTreeを使って解析"
   ]
  },
  {
   "cell_type": "code",
   "execution_count": 6,
   "metadata": {},
   "outputs": [],
   "source": [
    "import xml.etree.ElementTree as ET\n",
    "\n",
    "root = ET.fromstring(xml_string)"
   ]
  },
  {
   "cell_type": "code",
   "execution_count": 7,
   "metadata": {},
   "outputs": [
    {
     "name": "stdout",
     "output_type": "stream",
     "text": [
      "<Element 'ZIP_result' at 0x1086e47c8>\n"
     ]
    }
   ],
   "source": [
    "print(root)"
   ]
  },
  {
   "cell_type": "markdown",
   "metadata": {},
   "source": [
    "### rootのタグと属性の確認"
   ]
  },
  {
   "cell_type": "code",
   "execution_count": 8,
   "metadata": {},
   "outputs": [
    {
     "name": "stdout",
     "output_type": "stream",
     "text": [
      "ZIP_result {}\n"
     ]
    }
   ],
   "source": [
    "print(root.tag, root.attrib)"
   ]
  },
  {
   "cell_type": "markdown",
   "metadata": {},
   "source": [
    "### rootの子ノードを取り出す"
   ]
  },
  {
   "cell_type": "code",
   "execution_count": 9,
   "metadata": {},
   "outputs": [
    {
     "name": "stdout",
     "output_type": "stream",
     "text": [
      "tag:result, attribute:{'name': 'ZipSearchXML'}\n",
      "tag:result, attribute:{'version': '1.01'}\n",
      "tag:result, attribute:{'request_url': 'http%3A%2F%2Fzip.cgis.biz%2Fxml%2Fzip.php%3Fzn%3D1030000'}\n",
      "tag:result, attribute:{'request_zip_num': '1030000'}\n",
      "tag:result, attribute:{'request_zip_version': 'none'}\n",
      "tag:result, attribute:{'result_code': '1'}\n",
      "tag:result, attribute:{'result_zip_num': '1030000'}\n",
      "tag:result, attribute:{'result_zip_version': '0'}\n",
      "tag:result, attribute:{'result_values_count': '1'}\n",
      "tag:ADDRESS_value, attribute:{}\n"
     ]
    }
   ],
   "source": [
    "for child in root:\n",
    "    print(\"tag:{}, attribute:{}\".format(child.tag, child.attrib))"
   ]
  },
  {
   "cell_type": "markdown",
   "metadata": {},
   "source": [
    "### タグ名で抽出するiter()"
   ]
  },
  {
   "cell_type": "code",
   "execution_count": 10,
   "metadata": {},
   "outputs": [
    {
     "name": "stdout",
     "output_type": "stream",
     "text": [
      "tag:value, attribute:{'state_kana': 'トウキョウト'}\n",
      "tag:value, attribute:{'city_kana': 'チュウオウク'}\n",
      "tag:value, attribute:{'address_kana': 'none'}\n",
      "tag:value, attribute:{'company_kana': 'none'}\n",
      "tag:value, attribute:{'state': '東京都'}\n",
      "tag:value, attribute:{'city': '中央区'}\n",
      "tag:value, attribute:{'address': 'none'}\n",
      "tag:value, attribute:{'company': 'none'}\n"
     ]
    }
   ],
   "source": [
    "for child in root.iter(\"value\"):\n",
    "    print(\"tag:{}, attribute:{}\".format(child.tag, child.attrib))"
   ]
  },
  {
   "cell_type": "markdown",
   "metadata": {},
   "source": [
    "### タグ名で子ノードを取り出すfindall()"
   ]
  },
  {
   "cell_type": "code",
   "execution_count": 11,
   "metadata": {},
   "outputs": [
    {
     "name": "stdout",
     "output_type": "stream",
     "text": [
      "tag:result, attribute:{'name': 'ZipSearchXML'}\n",
      "tag:result, attribute:{'version': '1.01'}\n",
      "tag:result, attribute:{'request_url': 'http%3A%2F%2Fzip.cgis.biz%2Fxml%2Fzip.php%3Fzn%3D1030000'}\n",
      "tag:result, attribute:{'request_zip_num': '1030000'}\n",
      "tag:result, attribute:{'request_zip_version': 'none'}\n",
      "tag:result, attribute:{'result_code': '1'}\n",
      "tag:result, attribute:{'result_zip_num': '1030000'}\n",
      "tag:result, attribute:{'result_zip_version': '0'}\n",
      "tag:result, attribute:{'result_values_count': '1'}\n"
     ]
    }
   ],
   "source": [
    "for child in root.findall(\"result\"):\n",
    "    print(\"tag:{}, attribute:{}\".format(child.tag, child.attrib))"
   ]
  },
  {
   "cell_type": "markdown",
   "metadata": {},
   "source": [
    "### XPath表現で自由にノードを取り出す"
   ]
  },
  {
   "cell_type": "markdown",
   "metadata": {},
   "source": [
    "・ピリオド：現在のノード\n",
    "・タグ名　：名前が一致するタグ名をもつ全ての子ノードを選択\n",
    "・＊　　　：全ノード\n",
    "・/     　：タグ名を接続　"
   ]
  },
  {
   "cell_type": "code",
   "execution_count": 12,
   "metadata": {},
   "outputs": [
    {
     "name": "stdout",
     "output_type": "stream",
     "text": [
      "{'state_kana': 'トウキョウト'}\n",
      "{'city_kana': 'チュウオウク'}\n",
      "{'address_kana': 'none'}\n",
      "{'company_kana': 'none'}\n",
      "{'state': '東京都'}\n",
      "{'city': '中央区'}\n",
      "{'address': 'none'}\n",
      "{'company': 'none'}\n"
     ]
    }
   ],
   "source": [
    "# ADDRESS_valueタグ配下のvalueタグをすべて選択します\n",
    "for i in root.findall('./ADDRESS_value/value'):\n",
    "    print(i.attrib)"
   ]
  },
  {
   "cell_type": "code",
   "execution_count": null,
   "metadata": {},
   "outputs": [],
   "source": []
  }
 ],
 "metadata": {
  "kernelspec": {
   "display_name": "Python 3",
   "language": "python",
   "name": "python3"
  },
  "language_info": {
   "codemirror_mode": {
    "name": "ipython",
    "version": 3
   },
   "file_extension": ".py",
   "mimetype": "text/x-python",
   "name": "python",
   "nbconvert_exporter": "python",
   "pygments_lexer": "ipython3",
   "version": "3.6.9"
  }
 },
 "nbformat": 4,
 "nbformat_minor": 2
}
