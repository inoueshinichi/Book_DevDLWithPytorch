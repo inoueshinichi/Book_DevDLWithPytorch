{
 "cells": [
  {
   "cell_type": "markdown",
   "metadata": {},
   "source": [
    "### xml形式のアノテーションデータをリストに変換"
   ]
  },
  {
   "cell_type": "code",
   "execution_count": 3,
   "metadata": {},
   "outputs": [],
   "source": [
    "import xml.etree.ElementTree as ET\n",
    "import numpy as np\n",
    "import cv2"
   ]
  },
  {
   "cell_type": "markdown",
   "metadata": {},
   "source": [
    "xmlをlistに変換するクラス"
   ]
  },
  {
   "cell_type": "code",
   "execution_count": 4,
   "metadata": {},
   "outputs": [],
   "source": [
    "class Anno_xml2list(object):\n",
    "    \n",
    "    def __init__(self, classes):\n",
    "        \"\"\"\n",
    "        params:\n",
    "            classes : list\n",
    "                VOCのクラス名を格納したリスト\n",
    "        \"\"\"\n",
    "        self.classes = classes\n",
    "        \n",
    "        \n",
    "    def __call__(self, xml_path, width, height):\n",
    "        \"\"\"\n",
    "        1枚の画像に対する「xml形式のアノテーションデータ」を画像サイズで規格化してからリスト形式に変換する\n",
    "    \n",
    "        params:\n",
    "            xml_path: str\n",
    "                xmlファイルへのパス\n",
    "            width : int\n",
    "                画像の横幅\n",
    "            height : int\n",
    "                画像の高さ\n",
    "            \n",
    "        return:\n",
    "            ret : [[xmin, ymin, xmax, ymax, label_id], ....]\n",
    "        \"\"\"\n",
    "        \n",
    "        # 画像内の全ての物体のアノテーションをこのリストに格納します\n",
    "        ret = []\n",
    "    \n",
    "        # xmlファイルを読み込む\n",
    "        xml = ET.parse(xml_path).getroot()\n",
    "    \n",
    "        # 画像内にある物体(object)の数だけループする\n",
    "        for obj in xml.iter('object'):\n",
    "            \n",
    "            # アノテーションで検知がdifficultに設定されているものは除外\n",
    "            difficult = int(obj.find('difficult').text)\n",
    "            if difficult == 1:\n",
    "                continue\n",
    "                \n",
    "            # 1つの物体に対するアノテーションを格納するリスト(xmin, ymin, xmax, ymax, index)\n",
    "            bndbox = []\n",
    "            \n",
    "            name = obj.find('name').text.lower().strip() # 物体名\n",
    "            bbox = obj.find('bndbox')                    # バウンディングボックス\n",
    "            \n",
    "            # アノテーションのxmin, ymin, xmax, ymaxを取得し、0~1に規格化\n",
    "            pts = ['xmin', 'ymin', 'xmax', 'ymax']\n",
    "            \n",
    "            for pt in (pts):\n",
    "                # VOCは原点が(1,1)なので、1を引いて(0,0)を原点にする\n",
    "                cur_pixel = int(bbox.find(pt).text) - 1\n",
    "                \n",
    "                # 幅と高さで規格化\n",
    "                if pt == 'xmin' or pt == 'xmax':\n",
    "                    cur_pixel /= width\n",
    "                else:\n",
    "                    cur_pixel /= height\n",
    "                    \n",
    "                bndbox.append(cur_pixel)\n",
    "                \n",
    "            # アノテーションのクラス名のindexを取得して追加\n",
    "            label_idx = self.classes.index(name)\n",
    "            bndbox.append(label_idx)\n",
    "            \n",
    "            # retに[xmin, ymin, xmax, ymax, label_idx]を足す\n",
    "            ret += [bndbox]\n",
    "            \n",
    "        return np.array(ret) # 二次元配列"
   ]
  },
  {
   "cell_type": "markdown",
   "metadata": {},
   "source": [
    "動作確認"
   ]
  },
  {
   "cell_type": "code",
   "execution_count": 7,
   "metadata": {},
   "outputs": [
    {
     "name": "stdout",
     "output_type": "stream",
     "text": [
      "./data/VOCdevkit/VOC2012/JPEGImages/2008_000003.jpg\n"
     ]
    },
    {
     "data": {
      "text/plain": [
       "array([[ 0.09      ,  0.03003003,  0.998     ,  0.996997  , 18.        ],\n",
       "       [ 0.122     ,  0.56756757,  0.164     ,  0.72672673, 14.        ]])"
      ]
     },
     "execution_count": 7,
     "metadata": {},
     "output_type": "execute_result"
    }
   ],
   "source": [
    "from SSD_make_dataset import make_datapath_list\n",
    "# ファイルパスのリストを作成\n",
    "rootpath = \"./data/VOCdevkit/VOC2012/\"\n",
    "train_img_list, train_anno_list, val_img_list, val_anno_list = make_datapath_list(rootpath)\n",
    "\n",
    "voc_classes = ['aeroplane', 'bicycle', 'bird', 'boat',\n",
    "               'bottle', 'bus', 'car', 'cat', 'chair',\n",
    "               'cow', 'diningtable', 'dog', 'horse',\n",
    "               'motorbike', 'person', 'pottedplant',\n",
    "               'sheep', 'sofa', 'train', 'tvmonitor']\n",
    "\n",
    "transform_anno = Anno_xml2list(voc_classes)\n",
    "\n",
    "# 画像の読み込み OpenCVを使用\n",
    "ind = 1\n",
    "image_file_path = val_img_list[ind]\n",
    "img = cv2.imread(image_file_path)  # [高さ][幅][色BGR]\n",
    "height, width, channels = img.shape  # 画像のサイズを取得\n",
    "\n",
    "print(image_file_path)\n",
    "\n",
    "# アノテーションをリストで表示\n",
    "transform_anno(val_anno_list[ind], width, height)"
   ]
  },
  {
   "cell_type": "code",
   "execution_count": null,
   "metadata": {},
   "outputs": [],
   "source": []
  }
 ],
 "metadata": {
  "kernelspec": {
   "display_name": "Python 3",
   "language": "python",
   "name": "python3"
  },
  "language_info": {
   "codemirror_mode": {
    "name": "ipython",
    "version": 3
   },
   "file_extension": ".py",
   "mimetype": "text/x-python",
   "name": "python",
   "nbconvert_exporter": "python",
   "pygments_lexer": "ipython3",
   "version": "3.6.9"
  }
 },
 "nbformat": 4,
 "nbformat_minor": 2
}
